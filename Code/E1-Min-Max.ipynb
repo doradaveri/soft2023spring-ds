{
 "cells": [
  {
   "cell_type": "markdown",
   "id": "128a9faa",
   "metadata": {},
   "source": [
    "# Min-Max\n",
    "A simple program to find maximum score that maximizing player can get"
   ]
  },
  {
   "cell_type": "code",
   "execution_count": 4,
   "id": "603ffd29",
   "metadata": {},
   "outputs": [],
   "source": [
    "import math"
   ]
  },
  {
   "cell_type": "code",
   "execution_count": 9,
   "id": "2705526e",
   "metadata": {},
   "outputs": [],
   "source": [
    "'''\n",
    "h - maximum tree height\n",
    "d - current depth in game tree\n",
    "nodes[] - leaves values \n",
    "nodeId - index of current node in scores[]\n",
    "maxTurn - true if current move is of maximizer, else false\n",
    "\n",
    "'''\n",
    "\n",
    "def minimax(maxTurn, d, nodeId, nodes, h):\n",
    "    # base case : leaves reached\n",
    "    if (d == h):\n",
    "        return nodes[nodeId]\n",
    "\n",
    "    # Max turn\n",
    "    if (maxTurn):\n",
    "        return max( minimax(False, d + 1, nodeId * 2, nodes, h),\n",
    "                    minimax(False, d + 1, nodeId * 2 + 1, nodes, h))\n",
    "\n",
    "    # Min turn\n",
    "    else:\n",
    "        return min( minimax(True, d + 1, nodeId * 2, nodes, h),\n",
    "                    minimax(True, d + 1, nodeId * 2 + 1, nodes, h))\n"
   ]
  },
  {
   "cell_type": "code",
   "execution_count": 10,
   "id": "243c9982",
   "metadata": {},
   "outputs": [],
   "source": [
    "nodes = [3, 5, 2, 7, 9, 1, 5, 15]"
   ]
  },
  {
   "cell_type": "code",
   "execution_count": 11,
   "id": "a085e403",
   "metadata": {},
   "outputs": [
    {
     "data": {
      "text/plain": [
       "3.0"
      ]
     },
     "execution_count": 11,
     "metadata": {},
     "output_type": "execute_result"
    }
   ],
   "source": [
    "h = math.log(len(nodes), 2)\n",
    "h"
   ]
  },
  {
   "cell_type": "code",
   "execution_count": 13,
   "id": "a185d6f3",
   "metadata": {},
   "outputs": [
    {
     "name": "stdout",
     "output_type": "stream",
     "text": [
      "The optimal value for the player is :  9\n"
     ]
    }
   ],
   "source": [
    "# Max\n",
    "print(\"The optimal value for the player is : \", minimax(True, 0, 0, nodes, h))\n"
   ]
  },
  {
   "cell_type": "code",
   "execution_count": 14,
   "id": "b06a0112",
   "metadata": {},
   "outputs": [
    {
     "name": "stdout",
     "output_type": "stream",
     "text": [
      "The optimal value for the player is :  3\n"
     ]
    }
   ],
   "source": [
    "# Min\n",
    "print(\"The optimal value for the player is : \", minimax(False, 0, 0, nodes, h))"
   ]
  },
  {
   "cell_type": "code",
   "execution_count": null,
   "id": "53e41808",
   "metadata": {},
   "outputs": [],
   "source": []
  }
 ],
 "metadata": {
  "kernelspec": {
   "display_name": "Python 3 (ipykernel)",
   "language": "python",
   "name": "python3"
  },
  "language_info": {
   "codemirror_mode": {
    "name": "ipython",
    "version": 3
   },
   "file_extension": ".py",
   "mimetype": "text/x-python",
   "name": "python",
   "nbconvert_exporter": "python",
   "pygments_lexer": "ipython3",
   "version": "3.9.13"
  }
 },
 "nbformat": 4,
 "nbformat_minor": 5
}
